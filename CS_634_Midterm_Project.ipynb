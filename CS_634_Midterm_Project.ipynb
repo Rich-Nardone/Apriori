{
 "cells": [
  {
   "cell_type": "code",
   "execution_count": 1,
   "id": "d5582b2e",
   "metadata": {},
   "outputs": [],
   "source": [
    "from itertools import combinations,permutations\n",
    "import pandas as pd \n",
    "import numpy as np"
   ]
  },
  {
   "cell_type": "code",
   "execution_count": 2,
   "id": "32f293fe",
   "metadata": {},
   "outputs": [],
   "source": [
    "def apriori(csv,min_support,min_confidence):\n",
    "    df = pd.read_csv(csv,header = None).T\n",
    "    dic = df.to_dict()\n",
    "    items=[]\n",
    "    trans = {}\n",
    "    for key, value in dic.items():\n",
    "        trans[key] = []\n",
    "        for j in value:\n",
    "            if(not pd.isnull(value[j])):\n",
    "                trans[key].append(value[j])\n",
    "                if(value[j] not in items):\n",
    "                    items.append(value[j])\n",
    "    min_support = len(trans)*min_support\n",
    "    k= 1\n",
    "    result = []\n",
    "    L = items\n",
    "    while(L != []):\n",
    "        L = [','.join(i) for i in combinations(L, k)]\n",
    "        C = pd.DataFrame(index = trans.keys(),columns=L)\n",
    "        support_count = support(C,trans)\n",
    "        support_count = support_count[support_count['Value'] >= min_support]\n",
    "        L = []\n",
    "        for l in support_count.index:\n",
    "            hold = l.split(',')\n",
    "            result.append(hold)\n",
    "            for i in hold:\n",
    "                if(i not in L):\n",
    "                    L.append(i)\n",
    "        k+=1\n",
    "    association_rules = get_association_rules(result,trans,min_support,min_confidence)\n",
    "        \n",
    "    return [result,association_rules]"
   ]
  },
  {
   "cell_type": "code",
   "execution_count": 3,
   "id": "fe1e2073",
   "metadata": {},
   "outputs": [],
   "source": [
    "def get_support(items,trans):\n",
    "    count = 0\n",
    "    for tran in trans.keys():\n",
    "        flag = True\n",
    "        for i in items:\n",
    "            if(i not in trans[tran]):\n",
    "                flag = False\n",
    "        if(flag):\n",
    "            count+=1\n",
    "    return count"
   ]
  },
  {
   "cell_type": "code",
   "execution_count": 4,
   "id": "d8d9cb5c",
   "metadata": {},
   "outputs": [],
   "source": [
    "def get_confidence(items1,items2,trans):\n",
    "    support1 = get_support(items1,trans)\n",
    "    support2 = get_support(items2,trans)\n",
    "    if(support2 == 0):\n",
    "        return 0\n",
    "    conf = support1/support2\n",
    "    return conf"
   ]
  },
  {
   "cell_type": "code",
   "execution_count": 5,
   "id": "b75879e5",
   "metadata": {},
   "outputs": [],
   "source": [
    "def support(df,trans):\n",
    "    for item in df.columns:\n",
    "        item_split = item.split(',')\n",
    "        for key,items in trans.items():\n",
    "            flag =0\n",
    "            for i in item_split:\n",
    "                if(i not in items):\n",
    "                    flag = 1\n",
    "            if(flag == 0):\n",
    "                if(pd.isnull(df[item][key])):\n",
    "                    df[item][key] = 1\n",
    "                else:\n",
    "                    df[item][key] += 1\n",
    "    return pd.DataFrame(df.sum(),columns=['Value'])\n"
   ]
  },
  {
   "cell_type": "code",
   "execution_count": 6,
   "id": "c3c5f7a6",
   "metadata": {},
   "outputs": [],
   "source": [
    "def get_association_rules(frequent_item_sets,trans,min_support,min_confidence):\n",
    "    rules = {}\n",
    "    for frequent_item_set in frequent_item_sets:\n",
    "        if(len(frequent_item_set)>1):\n",
    "            for i in range(1,len(frequent_item_set)):\n",
    "                for j in [list(k) for k in combinations(frequent_item_set,i)]:\n",
    "                    other = [z for z in frequent_item_set if z not in j]\n",
    "                    conf1 = get_confidence(frequent_item_set,j,trans)\n",
    "                    rule1 = str(j)+' -> '+str(other)\n",
    "                    conf2 = get_confidence(frequent_item_set,other,trans)\n",
    "                    rule2 = str(other)+' -> '+str(j)\n",
    "                    if(rule1 not in rules.keys() and conf1>=min_confidence):\n",
    "                        rules[rule1] = conf1\n",
    "                    if(rule2 not in rules.keys() and conf2>=min_confidence):\n",
    "                        rules[rule2] = conf2\n",
    "    return rules\n"
   ]
  },
  {
   "cell_type": "code",
   "execution_count": 7,
   "id": "43568b4f",
   "metadata": {},
   "outputs": [
    {
     "name": "stdout",
     "output_type": "stream",
     "text": [
      "Welcome to Richards Apriori Algorithm.\n",
      "\t 1)  Amazon\n",
      "\t 2)  BestBuy\n",
      "\t 3)  Kmart\n",
      "\t 4)  Nike\n",
      "\t 5)  ESPN\n",
      "\t 6)  Custom\n",
      "\n",
      "Please choose your dataset: 1\n",
      "Please enter the minimum support(0<=minimum support<=1):.5\n",
      "Please enter the minimum confidence(0<=minimum confidence<=1):.45\n",
      "\n",
      "Under the minimum support of .5 this is your frequent items list:\n",
      "\t['A Beginner’s Guide']\n",
      "\t['Java: The Complete Reference']\n",
      "\t['Java For Dummies']\n",
      "\t['Android Programming: The Big Nerd Ranch']\n",
      "\t['Java: The Complete Reference', 'Java For Dummies']\n",
      "\n",
      "Under the minimum support of .5 and the minimum confidence of .45 these are your association rules:\n",
      "\t['Java: The Complete Reference'] -> ['Java For Dummies'] Confidence: 1.0\n",
      "\t['Java For Dummies'] -> ['Java: The Complete Reference'] Confidence: 0.7692307692307693\n"
     ]
    }
   ],
   "source": [
    "print(\"Welcome to Richards Apriori Algorithm.\")\n",
    "print(\"\\t 1)  Amazon\")\n",
    "print(\"\\t 2)  BestBuy\")\n",
    "print(\"\\t 3)  Kmart\")\n",
    "print(\"\\t 4)  Nike\")\n",
    "print(\"\\t 5)  ESPN\")\n",
    "print(\"\\t 6)  Custom\")\n",
    "dataset = int(input(\"\\nPlease choose your dataset: \"))\n",
    "if(dataset == 1):\n",
    "    file = 'amazon_transactions.csv'\n",
    "elif(dataset == 2):\n",
    "    file = 'bestbuy_transactions.csv'\n",
    "elif(dataset == 3):\n",
    "    file = 'kmart_transactions.csv'\n",
    "elif(dataset == 4):\n",
    "    file = 'nike_transactions.csv'\n",
    "elif(dataset == 5):\n",
    "    file = 'espn_transactions.csv'\n",
    "elif(dataset == 6):\n",
    "    file = input('Please enter your CSV files name:')\n",
    "min_support = input('Please enter the minimum support(0<=minimum support<=1):')\n",
    "min_confidence = input('Please enter the minimum confidence(0<=minimum confidence<=1):')\n",
    "result = apriori(file,float(min_support),float(min_confidence))\n",
    "print()\n",
    "print('Under the minimum support of',min_support,'this is your frequent items list:')\n",
    "for i in result[0]:\n",
    "    print('\\t'+str(i))\n",
    "print()\n",
    "print('Under the minimum support of',min_support,'and the minimum confidence of',min_confidence,'these are your association rules:')\n",
    "for i in result[1].keys():\n",
    "    print('\\t'+i,'Confidence: '+str(result[1][i]))\n"
   ]
  },
  {
   "cell_type": "code",
   "execution_count": null,
   "id": "e6fb1686",
   "metadata": {},
   "outputs": [],
   "source": []
  }
 ],
 "metadata": {
  "kernelspec": {
   "display_name": "Python 3",
   "language": "python",
   "name": "python3"
  },
  "language_info": {
   "codemirror_mode": {
    "name": "ipython",
    "version": 3
   },
   "file_extension": ".py",
   "mimetype": "text/x-python",
   "name": "python",
   "nbconvert_exporter": "python",
   "pygments_lexer": "ipython3",
   "version": "3.8.8"
  }
 },
 "nbformat": 4,
 "nbformat_minor": 5
}
